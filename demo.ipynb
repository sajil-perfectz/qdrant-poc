{
 "cells": [
  {
   "cell_type": "code",
   "execution_count": 1,
   "metadata": {},
   "outputs": [],
   "source": [
    "import os\n",
    "from qdrant_client import QdrantClient\n",
    "from langchain.document_loaders import PyPDFDirectoryLoader\n",
    "from langchain.text_splitter import RecursiveCharacterTextSplitter\n",
    "from langchain_qdrant import QdrantVectorStore\n",
    "from qdrant_client.http.models import Distance, VectorParams\n",
    "from langchain_cohere import CohereEmbeddings\n",
    "from langchain.schema import Document"
   ]
  },
  {
   "cell_type": "code",
   "execution_count": 2,
   "metadata": {},
   "outputs": [
    {
     "data": {
      "text/plain": [
       "True"
      ]
     },
     "execution_count": 2,
     "metadata": {},
     "output_type": "execute_result"
    }
   ],
   "source": [
    "from dotenv import load_dotenv\n",
    "load_dotenv()"
   ]
  },
  {
   "cell_type": "code",
   "execution_count": 84,
   "metadata": {},
   "outputs": [],
   "source": [
    "# # read the document\n",
    "# def read_doc(directory):\n",
    "#     file_loader=PyPDFDirectoryLoader(directory)\n",
    "#     documents=file_loader.load()\n",
    "#     return documents"
   ]
  },
  {
   "cell_type": "code",
   "execution_count": null,
   "metadata": {},
   "outputs": [],
   "source": [
    "# doc=read_doc('documents/')\n",
    "# len(doc)"
   ]
  },
  {
   "cell_type": "code",
   "execution_count": 86,
   "metadata": {},
   "outputs": [],
   "source": [
    "# ## Divide the docs into chunks\n",
    "# def chunk_data(docs,chunk_size=800,chunk_overlap=50):\n",
    "#     text_splitter=RecursiveCharacterTextSplitter(chunk_size=chunk_size,chunk_overlap=chunk_overlap)\n",
    "#     doc=text_splitter.split_documents(docs)\n",
    "#     return doc"
   ]
  },
  {
   "cell_type": "code",
   "execution_count": 3,
   "metadata": {},
   "outputs": [],
   "source": [
    "# documents=chunk_data(docs=doc)\n",
    "# documents\n",
    "user_profiles = [\n",
    "    {\n",
    "      \"Name\": \"Emily Davis\",\n",
    "      \"Age\": 29,\n",
    "      \"Location\": \"New York, USA\",\n",
    "      \"Gender\": \"Female\",\n",
    "      \"Sexual Orientation\": \"Heterosexual\",\n",
    "      \"Interests\": [\"Photography\", \"Traveling\", \"Yoga\"],\n",
    "      \"Likes\": [\"Italian food\", \"Beaches\", \"Jazz music\"],\n",
    "      \"Dislikes\": [\"Crowded places\", \"Fast food\"],\n",
    "      \"Occupation\": \"Marketing Manager\",\n",
    "      \"Hobbies\": [\"Painting\", \"Reading fiction\"],\n",
    "      \"Looking For\": \"Serious relationship\"\n",
    "    },\n",
    "    {\n",
    "      \"Name\": \"James Miller\",\n",
    "      \"Age\": 34,\n",
    "      \"Location\": \"Los Angeles, USA\",\n",
    "      \"Gender\": \"Male\",\n",
    "      \"Sexual Orientation\": \"Heterosexual\",\n",
    "      \"Interests\": [\"Hiking\", \"Sports\", \"Technology\"],\n",
    "      \"Likes\": [\"Basketball\", \"Sci-fi movies\", \"Mexican food\"],\n",
    "      \"Dislikes\": [\"Loud music\", \"Spicy food\"],\n",
    "      \"Occupation\": \"Software Engineer\",\n",
    "      \"Hobbies\": [\"Gaming\", \"Coding\"],\n",
    "      \"Looking For\": \"Casual dating\"\n",
    "    },\n",
    "    {\n",
    "      \"Name\": \"Sophia Johnson\",\n",
    "      \"Age\": 26,\n",
    "      \"Location\": \"London, UK\",\n",
    "      \"Gender\": \"Female\",\n",
    "      \"Sexual Orientation\": \"Bisexual\",\n",
    "      \"Interests\": [\"Fashion\", \"Music\", \"Social media\"],\n",
    "      \"Likes\": [\"Shopping\", \"Pop music\", \"Coffee\"],\n",
    "      \"Dislikes\": [\"Waking up early\", \"Rainy weather\"],\n",
    "      \"Occupation\": \"Fashion Blogger\",\n",
    "      \"Hobbies\": [\"Singing\", \"Dancing\"],\n",
    "      \"Looking For\": \"Serious relationship\"\n",
    "    },\n",
    "    {\n",
    "      \"Name\": \"Michael Anderson\",\n",
    "      \"Age\": 31,\n",
    "      \"Location\": \"Toronto, Canada\",\n",
    "      \"Gender\": \"Male\",\n",
    "      \"Sexual Orientation\": \"Heterosexual\",\n",
    "      \"Interests\": [\"Traveling\", \"Food\", \"Cars\"],\n",
    "      \"Likes\": [\"Road trips\", \"Burgers\", \"Football\"],\n",
    "      \"Dislikes\": [\"Cold weather\", \"Long meetings\"],\n",
    "      \"Occupation\": \"Sales Executive\",\n",
    "      \"Hobbies\": [\"Photography\", \"Cycling\"],\n",
    "      \"Looking For\": \"Long-term relationship\"\n",
    "    },\n",
    "    {\n",
    "      \"Name\": \"Ava Martinez\",\n",
    "      \"Age\": 25,\n",
    "      \"Location\": \"Barcelona, Spain\",\n",
    "      \"Gender\": \"Female\",\n",
    "      \"Sexual Orientation\": \"Heterosexual\",\n",
    "      \"Interests\": [\"Art\", \"History\", \"Travel\"],\n",
    "      \"Likes\": [\"Museums\", \"Classical music\", \"Tapas\"],\n",
    "      \"Dislikes\": [\"Fast fashion\", \"Crowded places\"],\n",
    "      \"Occupation\": \"Museum Curator\",\n",
    "      \"Hobbies\": [\"Sketching\", \"Playing piano\"],\n",
    "      \"Looking For\": \"Serious relationship\"\n",
    "    },\n",
    "    {\n",
    "      \"Name\": \"Daniel Kim\",\n",
    "      \"Age\": 28,\n",
    "      \"Location\": \"Seoul, South Korea\",\n",
    "      \"Gender\": \"Male\",\n",
    "      \"Sexual Orientation\": \"Heterosexual\",\n",
    "      \"Interests\": [\"Technology\", \"Gaming\", \"Cooking\"],\n",
    "      \"Likes\": [\"K-pop\", \"Street food\", \"Anime\"],\n",
    "      \"Dislikes\": [\"Hot weather\", \"Public speaking\"],\n",
    "      \"Occupation\": \"App Developer\",\n",
    "      \"Hobbies\": [\"Coding\", \"Martial arts\"],\n",
    "      \"Looking For\": \"Friendship\"\n",
    "    },\n",
    "    {\n",
    "      \"Name\": \"Olivia Brown\",\n",
    "      \"Age\": 27,\n",
    "      \"Location\": \"Sydney, Australia\",\n",
    "      \"Gender\": \"Female\",\n",
    "      \"Sexual Orientation\": \"Heterosexual\",\n",
    "      \"Interests\": [\"Fitness\", \"Beach\", \"Movies\"],\n",
    "      \"Likes\": [\"Surfing\", \"Coffee\", \"Action films\"],\n",
    "      \"Dislikes\": [\"Spiders\", \"Crowds\"],\n",
    "      \"Occupation\": \"Personal Trainer\",\n",
    "      \"Hobbies\": [\"Yoga\", \"Running\"],\n",
    "      \"Looking For\": \"Casual dating\"\n",
    "    },\n",
    "    {\n",
    "      \"Name\": \"Liam Wilson\",\n",
    "      \"Age\": 30,\n",
    "      \"Location\": \"Dublin, Ireland\",\n",
    "      \"Gender\": \"Male\",\n",
    "      \"Sexual Orientation\": \"Heterosexual\",\n",
    "      \"Interests\": [\"Sports\", \"Reading\", \"History\"],\n",
    "      \"Likes\": [\"Soccer\", \"Irish music\", \"Craft beer\"],\n",
    "      \"Dislikes\": [\"Laziness\", \"Pessimism\"],\n",
    "      \"Occupation\": \"History Teacher\",\n",
    "      \"Hobbies\": [\"Playing guitar\", \"Fishing\"],\n",
    "      \"Looking For\": \"Long-term relationship\"\n",
    "    },\n",
    "    {\n",
    "      \"Name\": \"Emma White\",\n",
    "      \"Age\": 24,\n",
    "      \"Location\": \"Vancouver, Canada\",\n",
    "      \"Gender\": \"Female\",\n",
    "      \"Sexual Orientation\": \"Heterosexual\",\n",
    "      \"Interests\": [\"Nature\", \"Hiking\", \"Animals\"],\n",
    "      \"Likes\": [\"Vegan food\", \"Sunsets\", \"Documentaries\"],\n",
    "      \"Dislikes\": [\"Pollution\", \"Loud noises\"],\n",
    "      \"Occupation\": \"Veterinarian\",\n",
    "      \"Hobbies\": [\"Photography\", \"Volunteering\"],\n",
    "      \"Looking For\": \"Serious relationship\"\n",
    "    },\n",
    "    {\n",
    "      \"Name\": \"Noah Thompson\",\n",
    "      \"Age\": 35,\n",
    "      \"Location\": \"Berlin, Germany\",\n",
    "      \"Gender\": \"Male\",\n",
    "      \"Sexual Orientation\": \"Homosexual\",\n",
    "      \"Interests\": [\"Tech\", \"Art\", \"Music\"],\n",
    "      \"Likes\": [\"Electronic music\", \"Coffee\", \"Biking\"],\n",
    "      \"Dislikes\": [\"Smoking\", \"Heavy metal music\"],\n",
    "      \"Occupation\": \"Graphic Designer\",\n",
    "      \"Hobbies\": [\"Painting\", \"DJing\"],\n",
    "      \"Looking For\": \"Serious relationship\"\n",
    "    },\n",
    "    {\n",
    "      \"Name\": \"Isabella Garcia\",\n",
    "      \"Age\": 29,\n",
    "      \"Location\": \"Buenos Aires, Argentina\",\n",
    "      \"Gender\": \"Female\",\n",
    "      \"Sexual Orientation\": \"Heterosexual\",\n",
    "      \"Interests\": [\"Cooking\", \"Travel\", \"Languages\"],\n",
    "      \"Likes\": [\"Tango\", \"Wine\", \"Beach\"],\n",
    "      \"Dislikes\": [\"Dishonesty\", \"Long flights\"],\n",
    "      \"Occupation\": \"Chef\",\n",
    "      \"Hobbies\": [\"Baking\", \"Learning new languages\"],\n",
    "      \"Looking For\": \"Friendship\"\n",
    "    },\n",
    "    {\n",
    "      \"Name\": \"Alexander Lee\",\n",
    "      \"Age\": 32,\n",
    "      \"Location\": \"Hong Kong\",\n",
    "      \"Gender\": \"Male\",\n",
    "      \"Sexual Orientation\": \"Heterosexual\",\n",
    "      \"Interests\": [\"Finance\", \"Cars\", \"Technology\"],\n",
    "      \"Likes\": [\"Luxury cars\", \"Sushi\", \"Movies\"],\n",
    "      \"Dislikes\": [\"Arrogance\", \"Waiting\"],\n",
    "      \"Occupation\": \"Investment Banker\",\n",
    "      \"Hobbies\": [\"Golf\", \"Traveling\"],\n",
    "      \"Looking For\": \"Long-term relationship\"\n",
    "    },\n",
    "    {\n",
    "      \"Name\": \"Mia Patel\",\n",
    "      \"Age\": 24,\n",
    "      \"Location\": \"Mumbai, India\",\n",
    "      \"Gender\": \"Female\",\n",
    "      \"Sexual Orientation\": \"Bisexual\",\n",
    "      \"Interests\": [\"Yoga\", \"Meditation\", \"Spirituality\"],\n",
    "      \"Likes\": [\"Indian cuisine\", \"Folk music\", \"Temples\"],\n",
    "      \"Dislikes\": [\"Pollution\", \"Overcrowding\"],\n",
    "      \"Occupation\": \"Yoga Instructor\",\n",
    "      \"Hobbies\": [\"Dancing\", \"Traveling\"],\n",
    "      \"Looking For\": \"Serious relationship\"\n",
    "    },\n",
    "    {\n",
    "      \"Name\": \"Benjamin Carter\",\n",
    "      \"Age\": 36,\n",
    "      \"Location\": \"Auckland, New Zealand\",\n",
    "      \"Gender\": \"Male\",\n",
    "      \"Sexual Orientation\": \"Heterosexual\",\n",
    "      \"Interests\": [\"Fishing\", \"Adventure sports\", \"Nature\"],\n",
    "      \"Likes\": [\"Mountain biking\", \"Seafood\", \"Camping\"],\n",
    "      \"Dislikes\": [\"Traffic\", \"Long meetings\"],\n",
    "      \"Occupation\": \"Entrepreneur\",\n",
    "      \"Hobbies\": [\"Rock climbing\", \"Kayaking\"],\n",
    "      \"Looking For\": \"Friendship\"\n",
    "    },\n",
    "    {\n",
    "      \"Name\": \"Chloe Schmidt\",\n",
    "      \"Age\": 27,\n",
    "      \"Location\": \"Zurich, Switzerland\",\n",
    "      \"Gender\": \"Female\",\n",
    "      \"Sexual Orientation\": \"Heterosexual\",\n",
    "      \"Interests\": [\"Skiing\", \"Photography\", \"Food\"],\n",
    "      \"Likes\": [\"Swiss chocolate\", \"Mountains\", \"Wine\"],\n",
    "      \"Dislikes\": [\"Early mornings\", \"Cold food\"],\n",
    "      \"Occupation\": \"Architect\",\n",
    "      \"Hobbies\": [\"Drawing\", \"Hiking\"],\n",
    "      \"Looking For\": \"Serious relationship\"\n",
    "    },\n",
    "    {\n",
    "      \"Name\": \"Jack Adams\",\n",
    "      \"Age\": 31,\n",
    "      \"Location\": \"Chicago, USA\",\n",
    "      \"Gender\": \"Male\",\n",
    "      \"Sexual Orientation\": \"Heterosexual\",\n",
    "      \"Interests\": [\"Finance\", \"Movies\", \"Fitness\"],\n",
    "      \"Likes\": [\"Gym\", \"Action movies\", \"Pizza\"],\n",
    "      \"Dislikes\": [\"Messy places\", \"Procrastination\"],\n",
    "      \"Occupation\": \"Financial Analyst\",\n",
    "      \"Hobbies\": [\"Running\", \"Basketball\"],\n",
    "      \"Looking For\": \"Casual dating\"\n",
    "    }\n",
    "]"
   ]
  },
  {
   "cell_type": "code",
   "execution_count": 4,
   "metadata": {},
   "outputs": [],
   "source": [
    "# Create function to convert profile to text\n",
    "def profile_to_text(profile):\n",
    "    interests = \", \".join(profile.get(\"Interests\", []))\n",
    "    likes = \", \".join(profile.get(\"Likes\", []))\n",
    "    dislikes = \", \".join(profile.get(\"Dislikes\", []))\n",
    "    hobbies = \", \".join(profile.get(\"Hobbies\", []))\n",
    "    \n",
    "    return (\n",
    "        f\"Name: {profile['Name']}, Age: {profile['Age']}, \"\n",
    "        f\"Location: {profile['Location']}, Gender: {profile['Gender']}, \"\n",
    "        f\"Sexual Orientation: {profile['Sexual Orientation']}, \"\n",
    "        f\"Occupation: {profile['Occupation']}, \"\n",
    "        f\"Interests: {interests}, Likes: {likes}, Dislikes: {dislikes}, \"\n",
    "        f\"Hobbies: {hobbies}, Looking For: {profile['Looking For']}\"\n",
    "    )"
   ]
  },
  {
   "cell_type": "code",
   "execution_count": 5,
   "metadata": {},
   "outputs": [
    {
     "data": {
      "text/plain": [
       "[Document(page_content='Name: Emily Davis, Age: 29, Location: New York, USA, Gender: Female, Sexual Orientation: Heterosexual, Occupation: Marketing Manager, Interests: Photography, Traveling, Yoga, Likes: Italian food, Beaches, Jazz music, Dislikes: Crowded places, Fast food, Hobbies: Painting, Reading fiction, Looking For: Serious relationship'),\n",
       " Document(page_content='Name: James Miller, Age: 34, Location: Los Angeles, USA, Gender: Male, Sexual Orientation: Heterosexual, Occupation: Software Engineer, Interests: Hiking, Sports, Technology, Likes: Basketball, Sci-fi movies, Mexican food, Dislikes: Loud music, Spicy food, Hobbies: Gaming, Coding, Looking For: Casual dating'),\n",
       " Document(page_content='Name: Sophia Johnson, Age: 26, Location: London, UK, Gender: Female, Sexual Orientation: Bisexual, Occupation: Fashion Blogger, Interests: Fashion, Music, Social media, Likes: Shopping, Pop music, Coffee, Dislikes: Waking up early, Rainy weather, Hobbies: Singing, Dancing, Looking For: Serious relationship'),\n",
       " Document(page_content='Name: Michael Anderson, Age: 31, Location: Toronto, Canada, Gender: Male, Sexual Orientation: Heterosexual, Occupation: Sales Executive, Interests: Traveling, Food, Cars, Likes: Road trips, Burgers, Football, Dislikes: Cold weather, Long meetings, Hobbies: Photography, Cycling, Looking For: Long-term relationship'),\n",
       " Document(page_content='Name: Ava Martinez, Age: 25, Location: Barcelona, Spain, Gender: Female, Sexual Orientation: Heterosexual, Occupation: Museum Curator, Interests: Art, History, Travel, Likes: Museums, Classical music, Tapas, Dislikes: Fast fashion, Crowded places, Hobbies: Sketching, Playing piano, Looking For: Serious relationship'),\n",
       " Document(page_content='Name: Daniel Kim, Age: 28, Location: Seoul, South Korea, Gender: Male, Sexual Orientation: Heterosexual, Occupation: App Developer, Interests: Technology, Gaming, Cooking, Likes: K-pop, Street food, Anime, Dislikes: Hot weather, Public speaking, Hobbies: Coding, Martial arts, Looking For: Friendship'),\n",
       " Document(page_content='Name: Olivia Brown, Age: 27, Location: Sydney, Australia, Gender: Female, Sexual Orientation: Heterosexual, Occupation: Personal Trainer, Interests: Fitness, Beach, Movies, Likes: Surfing, Coffee, Action films, Dislikes: Spiders, Crowds, Hobbies: Yoga, Running, Looking For: Casual dating'),\n",
       " Document(page_content='Name: Liam Wilson, Age: 30, Location: Dublin, Ireland, Gender: Male, Sexual Orientation: Heterosexual, Occupation: History Teacher, Interests: Sports, Reading, History, Likes: Soccer, Irish music, Craft beer, Dislikes: Laziness, Pessimism, Hobbies: Playing guitar, Fishing, Looking For: Long-term relationship'),\n",
       " Document(page_content='Name: Emma White, Age: 24, Location: Vancouver, Canada, Gender: Female, Sexual Orientation: Heterosexual, Occupation: Veterinarian, Interests: Nature, Hiking, Animals, Likes: Vegan food, Sunsets, Documentaries, Dislikes: Pollution, Loud noises, Hobbies: Photography, Volunteering, Looking For: Serious relationship'),\n",
       " Document(page_content='Name: Noah Thompson, Age: 35, Location: Berlin, Germany, Gender: Male, Sexual Orientation: Homosexual, Occupation: Graphic Designer, Interests: Tech, Art, Music, Likes: Electronic music, Coffee, Biking, Dislikes: Smoking, Heavy metal music, Hobbies: Painting, DJing, Looking For: Serious relationship'),\n",
       " Document(page_content='Name: Isabella Garcia, Age: 29, Location: Buenos Aires, Argentina, Gender: Female, Sexual Orientation: Heterosexual, Occupation: Chef, Interests: Cooking, Travel, Languages, Likes: Tango, Wine, Beach, Dislikes: Dishonesty, Long flights, Hobbies: Baking, Learning new languages, Looking For: Friendship'),\n",
       " Document(page_content='Name: Alexander Lee, Age: 32, Location: Hong Kong, Gender: Male, Sexual Orientation: Heterosexual, Occupation: Investment Banker, Interests: Finance, Cars, Technology, Likes: Luxury cars, Sushi, Movies, Dislikes: Arrogance, Waiting, Hobbies: Golf, Traveling, Looking For: Long-term relationship'),\n",
       " Document(page_content='Name: Mia Patel, Age: 24, Location: Mumbai, India, Gender: Female, Sexual Orientation: Bisexual, Occupation: Yoga Instructor, Interests: Yoga, Meditation, Spirituality, Likes: Indian cuisine, Folk music, Temples, Dislikes: Pollution, Overcrowding, Hobbies: Dancing, Traveling, Looking For: Serious relationship'),\n",
       " Document(page_content='Name: Benjamin Carter, Age: 36, Location: Auckland, New Zealand, Gender: Male, Sexual Orientation: Heterosexual, Occupation: Entrepreneur, Interests: Fishing, Adventure sports, Nature, Likes: Mountain biking, Seafood, Camping, Dislikes: Traffic, Long meetings, Hobbies: Rock climbing, Kayaking, Looking For: Friendship'),\n",
       " Document(page_content='Name: Chloe Schmidt, Age: 27, Location: Zurich, Switzerland, Gender: Female, Sexual Orientation: Heterosexual, Occupation: Architect, Interests: Skiing, Photography, Food, Likes: Swiss chocolate, Mountains, Wine, Dislikes: Early mornings, Cold food, Hobbies: Drawing, Hiking, Looking For: Serious relationship'),\n",
       " Document(page_content='Name: Jack Adams, Age: 31, Location: Chicago, USA, Gender: Male, Sexual Orientation: Heterosexual, Occupation: Financial Analyst, Interests: Finance, Movies, Fitness, Likes: Gym, Action movies, Pizza, Dislikes: Messy places, Procrastination, Hobbies: Running, Basketball, Looking For: Casual dating')]"
      ]
     },
     "execution_count": 5,
     "metadata": {},
     "output_type": "execute_result"
    }
   ],
   "source": [
    "documents = [Document(page_content=profile_to_text(profile)) for profile in user_profiles]\n",
    "documents"
   ]
  },
  {
   "cell_type": "code",
   "execution_count": 6,
   "metadata": {},
   "outputs": [],
   "source": [
    "embeddings_model = CohereEmbeddings(cohere_api_key=os.environ['COHERE_API_KEY'], model='embed-english-v3.0')\n",
    "# embeddings_model"
   ]
  },
  {
   "cell_type": "code",
   "execution_count": 9,
   "metadata": {},
   "outputs": [],
   "source": [
    "# embedded_query = embeddings_model.embed_query(\"What was the name mentioned in the conversation?\")\n",
    "# len(embedded_query)\n",
    "# Generate embeddings for each user profile\n",
    "embeddings = embeddings_model.embed_documents([doc.page_content for doc in documents])"
   ]
  },
  {
   "cell_type": "code",
   "execution_count": 7,
   "metadata": {},
   "outputs": [
    {
     "name": "stdout",
     "output_type": "stream",
     "text": [
      "collections=[]\n"
     ]
    }
   ],
   "source": [
    "qdrant_client = QdrantClient(\n",
    "    os.environ['QDRANT_HOST'],\n",
    "    api_key=os.environ['QDRANTDB_API_KEY'],\n",
    ")\n",
    "\n",
    "print(qdrant_client.get_collections())"
   ]
  },
  {
   "cell_type": "code",
   "execution_count": 8,
   "metadata": {},
   "outputs": [
    {
     "data": {
      "text/plain": [
       "True"
      ]
     },
     "execution_count": 8,
     "metadata": {},
     "output_type": "execute_result"
    }
   ],
   "source": [
    "vector_config = VectorParams(\n",
    "    size=1024,\n",
    "    distance=Distance.COSINE\n",
    ")\n",
    "\n",
    "qdrant_client.create_collection(\n",
    "    collection_name=os.environ['COLLECTION_NAME'],\n",
    "    vectors_config=vector_config\n",
    ")"
   ]
  },
  {
   "cell_type": "code",
   "execution_count": 9,
   "metadata": {},
   "outputs": [
    {
     "data": {
      "text/plain": [
       "['da01ed50-2714-4884-9025-dfde9ff4a210',\n",
       " '372c1f0f-e50a-4b7a-9443-485f6c8b5934',\n",
       " 'f2e3d9d9-510a-4b48-a6a3-4df4270f2c15',\n",
       " '58c683cf-b253-4323-9c62-694eaf426f9d',\n",
       " '0e1a30fd-1a59-486e-9660-796d8db4c2e1',\n",
       " '976e9c33-0a1d-46c6-a44b-95f00b245137',\n",
       " '03070b1d-ff94-4cf2-a6f4-1f5dc96a688f',\n",
       " '639ee640-ed43-4434-a93d-0d76ae9cf80d',\n",
       " '40ede169-51b6-4597-a730-12a6eb484f36',\n",
       " '47bc8c58-f305-4f75-812f-6290d0e0ff23',\n",
       " 'a7dc6112-52f4-4a5c-8aef-5c1c99daef2e',\n",
       " 'b2b0ce49-644b-4327-80e1-ad62bef05e15',\n",
       " '1a8e6117-b1de-4e86-b573-1710ed413c41',\n",
       " 'c8d38ced-5f26-41c4-b64b-04342055bb09',\n",
       " '2d90d755-75ce-4b65-8a46-2fdd1af5c808',\n",
       " '8f24bdbb-5009-4b64-a780-5b91fed1491c']"
      ]
     },
     "execution_count": 9,
     "metadata": {},
     "output_type": "execute_result"
    }
   ],
   "source": [
    "from uuid import uuid4\n",
    "\n",
    "\n",
    "vector_store = QdrantVectorStore(\n",
    "    client=qdrant_client,\n",
    "    collection_name=os.environ['COLLECTION_NAME'],\n",
    "    embedding=embeddings_model,\n",
    ")\n",
    "\n",
    "uuids = [str(uuid4()) for _ in range(len(documents))]\n",
    "\n",
    "vector_store.add_documents(\n",
    "    documents=documents, \n",
    "    ids=uuids\n",
    ")"
   ]
  },
  {
   "cell_type": "code",
   "execution_count": null,
   "metadata": {},
   "outputs": [],
   "source": [
    "query = 'Name: James Miller, Age: 34, Location: Los Angeles, USA, Gender: Male, Sexual Orientation: Heterosexual, Occupation: Software Engineer, Interests: Hiking, Sports, Technology, Likes: Basketball, Sci-fi movies, Mexican food, Dislikes: Loud music, Spicy food, Hobbies: Gaming, Coding, Looking For: Casual dating'\n",
    "results = vector_store.similarity_search_with_score(query, k=5)\n",
    "results"
   ]
  }
 ],
 "metadata": {
  "kernelspec": {
   "display_name": ".venv",
   "language": "python",
   "name": "python3"
  },
  "language_info": {
   "codemirror_mode": {
    "name": "ipython",
    "version": 3
   },
   "file_extension": ".py",
   "mimetype": "text/x-python",
   "name": "python",
   "nbconvert_exporter": "python",
   "pygments_lexer": "ipython3",
   "version": "3.10.7"
  }
 },
 "nbformat": 4,
 "nbformat_minor": 2
}
